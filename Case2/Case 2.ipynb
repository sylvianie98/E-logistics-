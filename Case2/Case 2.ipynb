{
 "cells": [
  {
   "cell_type": "code",
   "execution_count": 1,
   "metadata": {},
   "outputs": [],
   "source": [
    "import pandas as pd\n",
    "import scipy.integrate as integrate\n",
    "import math\n",
    "import matplotlib.pyplot as plt"
   ]
  },
  {
   "cell_type": "code",
   "execution_count": 2,
   "metadata": {},
   "outputs": [
    {
     "data": {
      "text/html": [
       "<div>\n",
       "<style scoped>\n",
       "    .dataframe tbody tr th:only-of-type {\n",
       "        vertical-align: middle;\n",
       "    }\n",
       "\n",
       "    .dataframe tbody tr th {\n",
       "        vertical-align: top;\n",
       "    }\n",
       "\n",
       "    .dataframe thead th {\n",
       "        text-align: right;\n",
       "    }\n",
       "</style>\n",
       "<table border=\"1\" class=\"dataframe\">\n",
       "  <thead>\n",
       "    <tr style=\"text-align: right;\">\n",
       "      <th></th>\n",
       "      <th>name</th>\n",
       "      <th>pop</th>\n",
       "      <th>area (m^2)</th>\n",
       "      <th>p of coming from i</th>\n",
       "      <th>pop density</th>\n",
       "      <th>percentage of pop density</th>\n",
       "    </tr>\n",
       "  </thead>\n",
       "  <tbody>\n",
       "    <tr>\n",
       "      <td>0</td>\n",
       "      <td>42467159</td>\n",
       "      <td>3094</td>\n",
       "      <td>166136</td>\n",
       "      <td>0.000631</td>\n",
       "      <td>0.018623</td>\n",
       "      <td>0.000647</td>\n",
       "    </tr>\n",
       "    <tr>\n",
       "      <td>1</td>\n",
       "      <td>42467069</td>\n",
       "      <td>2863</td>\n",
       "      <td>182479</td>\n",
       "      <td>0.000584</td>\n",
       "      <td>0.015689</td>\n",
       "      <td>0.000545</td>\n",
       "    </tr>\n",
       "    <tr>\n",
       "      <td>2</td>\n",
       "      <td>42466853</td>\n",
       "      <td>2228</td>\n",
       "      <td>188108</td>\n",
       "      <td>0.000454</td>\n",
       "      <td>0.011844</td>\n",
       "      <td>0.000411</td>\n",
       "    </tr>\n",
       "    <tr>\n",
       "      <td>3</td>\n",
       "      <td>1413215971</td>\n",
       "      <td>3597</td>\n",
       "      <td>119678</td>\n",
       "      <td>0.000733</td>\n",
       "      <td>0.030056</td>\n",
       "      <td>0.001044</td>\n",
       "    </tr>\n",
       "    <tr>\n",
       "      <td>4</td>\n",
       "      <td>42466495</td>\n",
       "      <td>4495</td>\n",
       "      <td>167532</td>\n",
       "      <td>0.000917</td>\n",
       "      <td>0.026831</td>\n",
       "      <td>0.000932</td>\n",
       "    </tr>\n",
       "  </tbody>\n",
       "</table>\n",
       "</div>"
      ],
      "text/plain": [
       "         name   pop  area (m^2)  p of coming from i  pop density  \\\n",
       "0    42467159  3094      166136            0.000631     0.018623   \n",
       "1    42467069  2863      182479            0.000584     0.015689   \n",
       "2    42466853  2228      188108            0.000454     0.011844   \n",
       "3  1413215971  3597      119678            0.000733     0.030056   \n",
       "4    42466495  4495      167532            0.000917     0.026831   \n",
       "\n",
       "   percentage of pop density  \n",
       "0                   0.000647  \n",
       "1                   0.000545  \n",
       "2                   0.000411  \n",
       "3                   0.001044  \n",
       "4                   0.000932  "
      ]
     },
     "execution_count": 2,
     "metadata": {},
     "output_type": "execute_result"
    }
   ],
   "source": [
    "data = pd.read_csv('nyc_population_area.csv')\n",
    "data['p of coming from i'] = data['pop'] / sum(data['pop'])\n",
    "data['pop density'] = data['pop']/data['area (m^2)']\n",
    "data['percentage of pop density'] = data['pop density'] / sum(data['pop density'])\n",
    "data.head()"
   ]
  },
  {
   "cell_type": "code",
   "execution_count": 3,
   "metadata": {},
   "outputs": [],
   "source": [
    "def lamda(volunteer):\n",
    "    return volunteer * 0.3 * data['percentage of pop density']/data['area (m^2)']"
   ]
  },
  {
   "cell_type": "code",
   "execution_count": 4,
   "metadata": {},
   "outputs": [],
   "source": [
    "def f(t,lam):\n",
    "    ans = 0\n",
    "    for i in range(len(data)):\n",
    "        ans += (- math.pi * (s**2) * l[i] * 2 * (t - 3)) * data['p of coming from i'].loc[i] * math.exp(-math.pi * (s**2) * ((t-3)**2) * lam[i])\n",
    "    return -ans"
   ]
  },
  {
   "cell_type": "code",
   "execution_count": 5,
   "metadata": {},
   "outputs": [],
   "source": [
    "survival = []\n",
    "#m/min\n",
    "s = 60\n",
    "for i in range(1000,12001,1000):\n",
    "    l = lamda(i)\n",
    "    survival.append(integrate.quad(lambda t : (1 + math.exp(0.678+0.262*t))**(-1) * f(t,l),3,3+14.974)[0])"
   ]
  },
  {
   "cell_type": "code",
   "execution_count": 6,
   "metadata": {},
   "outputs": [
    {
     "data": {
      "text/plain": [
       "<matplotlib.collections.PathCollection at 0x7fceeecab950>"
      ]
     },
     "execution_count": 6,
     "metadata": {},
     "output_type": "execute_result"
    },
    {
     "data": {
      "image/png": "[encoded data removed]",
      "text/plain": [
       "<Figure size 432x288 with 1 Axes>"
      ]
     },
     "metadata": {
      "needs_background": "light"
     },
     "output_type": "display_data"
    }
   ],
   "source": [
    "volunteer = [i for i in range(1000,12001,1000)]\n",
    "plt.xlabel('number of volunteers')\n",
    "plt.ylabel('expected survival rates from OHCA')\n",
    "plt.scatter(volunteer,survival)\n",
    "\n"
   ]
  },
  {
   "cell_type": "code",
   "execution_count": 7,
   "metadata": {},
   "outputs": [
    {
     "name": "stdout",
     "output_type": "stream",
     "text": [
      "Survival of 5000 vol is 0.09870892630303828\n"
     ]
    }
   ],
   "source": [
    "l = lamda(5000)\n",
    "survival = integrate.quad(lambda t : (1 + math.exp(0.678+0.262*t))**(-1) * f(t,l),3,3+14.974)[0]\n",
    "print(\"Survival of 5000 vol is \" + str(survival))"
   ]
  },
  {
   "cell_type": "code",
   "execution_count": 8,
   "metadata": {},
   "outputs": [
    {
     "name": "stdout",
     "output_type": "stream",
     "text": [
      "Survival of 12000 vol is 0.12163856265397005\n"
     ]
    }
   ],
   "source": [
    "l = lamda(12000)\n",
    "survival = integrate.quad(lambda t : (1 + math.exp(0.678+0.262*t))**(-1) * f(t,l),3,3+14.974)[0]\n",
    "print(\"Survival of 12000 vol is \" + str(survival))"
   ]
  },
  {
   "cell_type": "code",
   "execution_count": 9,
   "metadata": {},
   "outputs": [],
   "source": [
    "def new_lamda(volunteer):\n",
    "    return volunteer * 0.3 * data['p of coming from i']/data['area (m^2)']"
   ]
  },
  {
   "cell_type": "code",
   "execution_count": 10,
   "metadata": {},
   "outputs": [
    {
     "name": "stdout",
     "output_type": "stream",
     "text": [
      "Survival of 12000 vol is 0.12478652230411186\n"
     ]
    }
   ],
   "source": [
    "l = new_lamda(12000)\n",
    "survival = integrate.quad(lambda t : (1 + math.exp(0.678+0.262*t))**(-1) * f(t,l),3,3+14.974)[0]\n",
    "print(\"Survival of 12000 vol is \" + str(survival))"
   ]
  },
  {
   "cell_type": "code",
   "execution_count": 11,
   "metadata": {},
   "outputs": [
    {
     "data": {
      "text/plain": [
       "<matplotlib.collections.PathCollection at 0x7fceeef24dd0>"
      ]
     },
     "execution_count": 11,
     "metadata": {},
     "output_type": "execute_result"
    },
    {
     "data": {
      "image/png": "[encoded data removed]",
      "text/plain": [
       "<Figure size 432x288 with 1 Axes>"
      ]
     },
     "metadata": {
      "needs_background": "light"
     },
     "output_type": "display_data"
    }
   ],
   "source": [
    "volunteer_density = new_lamda(12000)/0.3\n",
    "plt.xlim(0, max(data['pop density']))\n",
    "plt.ylim(0, max(volunteer_density))\n",
    "plt.xlabel('population density')\n",
    "plt.ylabel('suggested volunteer density')\n",
    "plt.scatter(data['pop density'],volunteer_density)"
   ]
  },
  {
   "cell_type": "code",
   "execution_count": null,
   "metadata": {},
   "outputs": [],
   "source": []
  },
  {
   "cell_type": "code",
   "execution_count": null,
   "metadata": {},
   "outputs": [],
   "source": []
  }
 ],
 "metadata": {
  "kernelspec": {
   "display_name": "Python 3",
   "language": "python",
   "name": "python3"
  },
  "language_info": {
   "codemirror_mode": {
    "name": "ipython",
    "version": 3
   },
   "file_extension": ".py",
   "mimetype": "text/x-python",
   "name": "python",
   "nbconvert_exporter": "python",
   "pygments_lexer": "ipython3",
   "version": "3.7.4"
  }
 },
 "nbformat": 4,
 "nbformat_minor": 2
}
